{
 "cells": [
  {
   "cell_type": "code",
   "execution_count": 2,
   "id": "a78cf6cb-4939-448e-9de3-bbf0ea66c27d",
   "metadata": {},
   "outputs": [],
   "source": [
    "import pandas as pd"
   ]
  },
  {
   "cell_type": "code",
   "execution_count": 4,
   "id": "38ca43da-c25d-4e36-a00a-c578489667b4",
   "metadata": {},
   "outputs": [],
   "source": [
    "df = pd.read_csv(\"/Users/georgeandronikidis/Documents/mental-health-chatbot-and-sentiment-analysis/Dataset/Combined Data.csv\")"
   ]
  },
  {
   "cell_type": "code",
   "execution_count": null,
   "id": "139924f3-f761-4b32-9ae4-d9386c1b826f",
   "metadata": {},
   "outputs": [],
   "source": []
  }
 ],
 "metadata": {
  "kernelspec": {
   "display_name": "venv",
   "language": "python",
   "name": "venv"
  },
  "language_info": {
   "codemirror_mode": {
    "name": "ipython",
    "version": 3
   },
   "file_extension": ".py",
   "mimetype": "text/x-python",
   "name": "python",
   "nbconvert_exporter": "python",
   "pygments_lexer": "ipython3",
   "version": "3.9.6"
  }
 },
 "nbformat": 4,
 "nbformat_minor": 5
}
