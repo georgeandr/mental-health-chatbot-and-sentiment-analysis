{
 "cells": [
  {
   "cell_type": "code",
   "execution_count": 12,
   "metadata": {},
   "outputs": [],
   "source": [
    "import pandas as pd\n",
    "from sklearn.model_selection import train_test_split, GridSearchCV, cross_val_score\n",
    "from sklearn.feature_extraction.text import TfidfVectorizer\n",
    "from sklearn.naive_bayes import BernoulliNB\n",
    "from sklearn.neighbors import KNeighborsClassifier\n",
    "from sklearn.preprocessing import StandardScaler, LabelEncoder\n",
    "from sklearn.ensemble import RandomForestClassifier\n",
    "from sklearn.metrics import classification_report\n",
    "import joblib"
   ]
  },
  {
   "cell_type": "code",
   "execution_count": 13,
   "metadata": {},
   "outputs": [],
   "source": [
    "df = pd.read_csv(\"../mental-health-chatbot-and-sentiment-analysis/Dataset/dataframe_cleaned.csv\")"
   ]
  },
  {
   "cell_type": "code",
   "execution_count": 17,
   "metadata": {},
   "outputs": [],
   "source": [
    "processed_df = df[\"cleaned_statement\"]\n",
    "sentiment = df[\"status\"]"
   ]
  },
  {
   "cell_type": "code",
   "execution_count": 18,
   "metadata": {},
   "outputs": [],
   "source": [
    "X_train, X_test, y_train, y_test = train_test_split(processed_df, sentiment, test_size = 0.2, random_state = 0)"
   ]
  },
  {
   "cell_type": "code",
   "execution_count": 19,
   "metadata": {},
   "outputs": [
    {
     "name": "stdout",
     "output_type": "stream",
     "text": [
      "X_train size: 40732\n",
      "X_test size: 10183\n",
      "y_train size: 40732\n",
      "y_test size: 10183\n"
     ]
    }
   ],
   "source": [
    "print(f\"X_train size: {len(X_train)}\")\n",
    "print(f\"X_test size: {len(X_test)}\")\n",
    "print(f\"y_train size: {len(y_train)}\")\n",
    "print(f\"y_test size: {len(y_test)}\")"
   ]
  },
  {
   "cell_type": "code",
   "execution_count": 20,
   "metadata": {},
   "outputs": [
    {
     "name": "stdout",
     "output_type": "stream",
     "text": [
      "Vectoriser fitted.\n",
      "No. of feature_words:  500000\n"
     ]
    }
   ],
   "source": [
    "vectoriser = TfidfVectorizer(ngram_range=(1,3), max_features=500000)\n",
    "vectoriser.fit(X_train)\n",
    "print(f'Vectoriser fitted.')\n",
    "print('No. of feature_words: ', len(vectoriser.get_feature_names_out()))"
   ]
  },
  {
   "cell_type": "code",
   "execution_count": 21,
   "metadata": {},
   "outputs": [],
   "source": [
    "X_train = vectoriser.transform(X_train)\n",
    "X_test  = vectoriser.transform(X_test)"
   ]
  },
  {
   "cell_type": "code",
   "execution_count": 11,
   "metadata": {},
   "outputs": [
    {
     "name": "stdout",
     "output_type": "stream",
     "text": [
      "Best Parameters: {'alpha': 0.1}\n",
      "Best Score: 0.5982273912294922\n",
      "Tuned Bernoulli Naive Bayes\n",
      "                      precision    recall  f1-score   support\n",
      "\n",
      "             Anxiety       0.75      0.55      0.64       727\n",
      "             Bipolar       0.81      0.42      0.56       506\n",
      "          Depression       0.61      0.51      0.55      2997\n",
      "              Normal       0.61      0.96      0.74      3128\n",
      "Personality disorder       0.72      0.09      0.17       193\n",
      "              Stress       0.54      0.20      0.29       458\n",
      "            Suicidal       0.58      0.47      0.52      2174\n",
      "\n",
      "            accuracy                           0.62     10183\n",
      "           macro avg       0.66      0.46      0.49     10183\n",
      "        weighted avg       0.62      0.62      0.59     10183\n",
      "\n"
     ]
    }
   ],
   "source": [
    "param_grid = {\n",
    "    'alpha': [0.1, 0.5, 1.0, 5.0, 10.0]\n",
    "}\n",
    "\n",
    "bnb = BernoulliNB()\n",
    "\n",
    "grid_search = GridSearchCV(estimator=bnb, param_grid=param_grid, cv=5, scoring='accuracy')\n",
    "\n",
    "grid_search.fit(X_train, y_train)\n",
    "\n",
    "print(f'Best Parameters: {grid_search.best_params_}')\n",
    "print(f'Best Score: {grid_search.best_score_}')\n",
    "\n",
    "best_bnb = grid_search.best_estimator_\n",
    "best_bnb.fit(X_train, y_train)\n",
    "\n",
    "y_pred_best_bnb = best_bnb.predict(X_test)\n",
    "\n",
    "print(\"Tuned Bernoulli Naive Bayes\")\n",
    "print(classification_report(y_test, y_pred_best_bnb))"
   ]
  },
  {
   "cell_type": "code",
   "execution_count": 12,
   "metadata": {},
   "outputs": [],
   "source": [
    "scaler = StandardScaler(with_mean = False)\n",
    "X_train_scaled = scaler.fit_transform(X_train)\n",
    "X_test_scaled = scaler.transform(X_test)"
   ]
  },
  {
   "cell_type": "code",
   "execution_count": 13,
   "metadata": {},
   "outputs": [],
   "source": [
    "label_encoder = LabelEncoder()\n",
    "\n",
    "y_train_encoded = label_encoder.fit_transform(y_train)\n",
    "\n",
    "y_test_encoded = label_encoder.transform(y_test)\n"
   ]
  },
  {
   "cell_type": "code",
   "execution_count": 14,
   "metadata": {},
   "outputs": [
    {
     "name": "stdout",
     "output_type": "stream",
     "text": [
      "Fitting 5 folds for each of 20 candidates, totalling 100 fits\n",
      "Best parameters found:  {'n_neighbors': 3, 'p': 1, 'weights': 'distance'}\n",
      "Classification report for KNeighborsClassifier\n",
      "                      precision    recall  f1-score   support\n",
      "\n",
      "             Anxiety       0.68      0.05      0.10       727\n",
      "             Bipolar       0.00      0.00      0.00       506\n",
      "          Depression       0.67      0.02      0.04      2997\n",
      "              Normal       0.31      0.99      0.47      3128\n",
      "Personality disorder       1.00      0.01      0.01       193\n",
      "              Stress       0.78      0.02      0.03       458\n",
      "            Suicidal       0.63      0.03      0.06      2174\n",
      "\n",
      "            accuracy                           0.32     10183\n",
      "           macro avg       0.58      0.16      0.10     10183\n",
      "        weighted avg       0.53      0.32      0.18     10183\n",
      "\n"
     ]
    },
    {
     "name": "stderr",
     "output_type": "stream",
     "text": [
      "/Users/georgeandronikidis/Documents/mental-health-chatbot-and-sentiment-analysis/venv/lib/python3.9/site-packages/sklearn/metrics/_classification.py:1531: UndefinedMetricWarning: Precision is ill-defined and being set to 0.0 in labels with no predicted samples. Use `zero_division` parameter to control this behavior.\n",
      "  _warn_prf(average, modifier, f\"{metric.capitalize()} is\", len(result))\n",
      "/Users/georgeandronikidis/Documents/mental-health-chatbot-and-sentiment-analysis/venv/lib/python3.9/site-packages/sklearn/metrics/_classification.py:1531: UndefinedMetricWarning: Precision is ill-defined and being set to 0.0 in labels with no predicted samples. Use `zero_division` parameter to control this behavior.\n",
      "  _warn_prf(average, modifier, f\"{metric.capitalize()} is\", len(result))\n",
      "/Users/georgeandronikidis/Documents/mental-health-chatbot-and-sentiment-analysis/venv/lib/python3.9/site-packages/sklearn/metrics/_classification.py:1531: UndefinedMetricWarning: Precision is ill-defined and being set to 0.0 in labels with no predicted samples. Use `zero_division` parameter to control this behavior.\n",
      "  _warn_prf(average, modifier, f\"{metric.capitalize()} is\", len(result))\n"
     ]
    }
   ],
   "source": [
    "param_grid = {\n",
    "    'n_neighbors': [3, 5, 7, 9, 11],\n",
    "    'weights': ['uniform', 'distance'],\n",
    "    'p': [1, 2]\n",
    "}\n",
    "\n",
    "kn = KNeighborsClassifier()\n",
    "\n",
    "grid_search = GridSearchCV(kn, param_grid, cv=5, scoring='accuracy', verbose=1, n_jobs=-1)\n",
    "grid_search.fit(X_train_scaled, y_train_encoded)\n",
    "\n",
    "print(\"Best parameters found: \", grid_search.best_params_)\n",
    "\n",
    "best_kn = grid_search.best_estimator_\n",
    "y_pred_encoded = best_kn.predict(X_test_scaled)\n",
    "y_pred = label_encoder.inverse_transform(y_pred_encoded)\n",
    "\n",
    "print(\"Classification report for KNeighborsClassifier\")\n",
    "print(classification_report(y_test, y_pred))"
   ]
  },
  {
   "cell_type": "code",
   "execution_count": 15,
   "metadata": {},
   "outputs": [
    {
     "name": "stdout",
     "output_type": "stream",
     "text": [
      "Cross-validation accuracy scores: [0.3230637  0.32527311 0.32568132 0.32568132 0.32408544]\n",
      "Mean cross-validation accuracy: 0.32475697675396276\n"
     ]
    }
   ],
   "source": [
    "scores = cross_val_score(best_kn, X_train_scaled, y_train, cv=5, scoring='accuracy')\n",
    "print(f\"Cross-validation accuracy scores: {scores}\")\n",
    "print(f\"Mean cross-validation accuracy: {scores.mean()}\")"
   ]
  },
  {
   "cell_type": "code",
   "execution_count": 22,
   "metadata": {},
   "outputs": [
    {
     "name": "stdout",
     "output_type": "stream",
     "text": [
      "                      precision    recall  f1-score   support\n",
      "\n",
      "             Anxiety       0.92      0.42      0.58       727\n",
      "             Bipolar       0.94      0.22      0.36       506\n",
      "          Depression       0.55      0.73      0.63      2997\n",
      "              Normal       0.70      0.97      0.81      3128\n",
      "Personality disorder       1.00      0.01      0.02       193\n",
      "              Stress       0.89      0.02      0.03       458\n",
      "            Suicidal       0.69      0.44      0.54      2174\n",
      "\n",
      "            accuracy                           0.65     10183\n",
      "           macro avg       0.81      0.40      0.42     10183\n",
      "        weighted avg       0.69      0.65      0.61     10183\n",
      "\n"
     ]
    }
   ],
   "source": [
    "rf = RandomForestClassifier(class_weight='balanced')\n",
    "rf.fit(X_train,y_train)\n",
    "\n",
    "y_pred=rf.predict(X_test)\n",
    "\n",
    "print(classification_report(y_test,y_pred))"
   ]
  },
  {
   "cell_type": "code",
   "execution_count": 23,
   "metadata": {},
   "outputs": [
    {
     "data": {
      "text/plain": [
       "['tfidf_vectorizer.pkl']"
      ]
     },
     "execution_count": 23,
     "metadata": {},
     "output_type": "execute_result"
    }
   ],
   "source": [
    "joblib.dump(rf, \"random_forest_model.pkl\")\n",
    "joblib.dump(vectoriser, \"tfidf_vectorizer.pkl\")"
   ]
  }
 ],
 "metadata": {
  "kernelspec": {
   "display_name": "venv",
   "language": "python",
   "name": "venv"
  },
  "language_info": {
   "codemirror_mode": {
    "name": "ipython",
    "version": 3
   },
   "file_extension": ".py",
   "mimetype": "text/x-python",
   "name": "python",
   "nbconvert_exporter": "python",
   "pygments_lexer": "ipython3",
   "version": "3.9.6"
  }
 },
 "nbformat": 4,
 "nbformat_minor": 2
}
